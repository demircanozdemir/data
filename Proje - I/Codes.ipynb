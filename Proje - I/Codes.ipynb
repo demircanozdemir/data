{
 "cells": [
  {
   "cell_type": "code",
   "execution_count": 1,
   "id": "4f07572e",
   "metadata": {},
   "outputs": [],
   "source": [
    "from openpyxl import Workbook,load_workbook"
   ]
  },
  {
   "cell_type": "code",
   "execution_count": 2,
   "id": "7f205afb",
   "metadata": {},
   "outputs": [],
   "source": [
    "wb = load_workbook(\"Proje1_VeriKümesiORJ.xlsx\") #işlem yapılcak dosya\n",
    "ws=wb[\"Sayfa1\"] #calisilan worksheet\n",
    "\n",
    "#newEx = Workbook()\n",
    "#new2=newEx.active\n",
    "#new2.title=\"main\""
   ]
  },
  {
   "cell_type": "code",
   "execution_count": 3,
   "id": "55ebbe82",
   "metadata": {},
   "outputs": [
    {
     "name": "stdout",
     "output_type": "stream",
     "text": [
      "ID alanindaki boş veri sayısı, 0\n",
      "Densite alanindaki boş veri sayısı, 0\n",
      "Polarite alanindaki boş veri sayısı, 77\n",
      "H20_Skoru alanindaki boş veri sayısı, 9\n",
      "O2_Skoru alanindaki boş veri sayısı, 0\n",
      "Azot_Skoru alanindaki boş veri sayısı, 11\n",
      "H20_Oranı alanindaki boş veri sayısı, 7\n",
      "O2_Oranı alanindaki boş veri sayısı, 2\n",
      "Azot_Oranı alanindaki boş veri sayısı, 0\n",
      "Kaynaklar alanindaki boş veri sayısı, 7\n",
      "Isı_Oranı alanindaki boş veri sayısı, 2\n",
      "Sınıf Bilgisi alanindaki boş veri sayısı, 3\n"
     ]
    }
   ],
   "source": [
    "## Kolonlardaki Eksik Verilerin Tespiti\n",
    "for kolon in range(1,13):\n",
    "    c = 0\n",
    "    for satir in range(1,156):\n",
    "        if(ws.cell(satir,kolon).value == None ):\n",
    "            c += 1 \n",
    "    print(f\"{ws.cell(1,kolon).value} alanindaki boş veri sayısı, {c}\")"
   ]
  },
  {
   "cell_type": "code",
   "execution_count": 4,
   "id": "f2998709",
   "metadata": {},
   "outputs": [],
   "source": [
    "##Sutunlardaki verileri kucukten buyuge siralayip all listesinin icerisine liste olarak atiyor.\n",
    "\n",
    "all = []\n",
    "for kolon in range(1,13):\n",
    "    d = []\n",
    "    for satir in range(2,156):\n",
    "        if ws.cell(satir,kolon).value != None:\n",
    "            d.append(ws.cell(satir,kolon).value) \n",
    "    d.sort()\n",
    "    all.append(d)\n"
   ]
  },
  {
   "cell_type": "code",
   "execution_count": 5,
   "id": "b708e0d9",
   "metadata": {
    "scrolled": false
   },
   "outputs": [
    {
     "name": "stdout",
     "output_type": "stream",
     "text": [
      "ID icin limit degerler: (-76.0, 232.0)\n",
      "Densite icin limit degerler: (-5.7250000000000005, 11.175)\n",
      "Polarite icin limit degerler: (-4.61175, 5.00625)\n",
      "H20_Skoru icin limit degerler: (3.1499999999999986, 8.350000000000001)\n",
      "O2_Skoru icin limit degerler: (-17.16, 47.120000000000005)\n",
      "Azot_Skoru icin limit degerler: (2.05, 4.05)\n",
      "H20_Oranı icin limit degerler: (-3.8500000000000005, 10.55)\n",
      "O2_Oranı icin limit degerler: (-1.95, 4.05)\n",
      "Azot_Oranı icin limit degerler: (-31.0625, 71.2775)\n",
      "Kaynaklar icin limit degerler: (5.200000000000001, 9.999999999999998)\n",
      "Isı_Oranı icin limit degerler: (-27.035714285714285, 57.82142857142857)\n"
     ]
    }
   ],
   "source": [
    "### n.sutundaki veriler icin IQR hesabi\n",
    "for n in range(len(all)-1):\n",
    "    q1_index = len(all[n])/4\n",
    "    #print(q1_index)\n",
    "    if str(q1_index)[-2:] != \".0\" :\n",
    "        q1 = (all[n][int(q1_index-0.5)] + all[n][int(q1_index+0.5)])/2 \n",
    "        q2 = (all[n][int(3*q1_index-0.5)] + all[n][int(3*q1_index+0.5)])/2 \n",
    "    else:\n",
    "        q1 = all[n][int(q1_index)]\n",
    "        q2 = all[n][3*int(q1_index)] \n",
    "\n",
    "\n",
    "    IQR  = 1.5*(q2-q1)\n",
    "    lower_limit =  q1 - IQR\n",
    "    upper_limit =  q2 + IQR\n",
    "    #print(\"Limitler: \",lower_limit,\"  \" ,upper_limit)\n",
    "    \n",
    "    print(f\"{ws.cell(1,(n+1)).value} icin limit degerler: {lower_limit,upper_limit}\")\n",
    "    c = 1 \n",
    "    #for i in all[n]:\n",
    "        #if i < lower_limit:\n",
    "            #print(i,\"AAA\")\n",
    "        #elif i> upper_limit:\n",
    "            #print(i,\"AAA\")"
   ]
  },
  {
   "cell_type": "code",
   "execution_count": 6,
   "id": "1beeb5eb",
   "metadata": {},
   "outputs": [],
   "source": [
    "##IQR Degerlerini alt ve ust limit olarak donduren fonksiyon\n",
    "def CalculateIQR(myList):\n",
    "    q1_index = len(myList)/4\n",
    "    #print(q1_index)\n",
    "    if str(q1_index)[-2:] != \".0\" :\n",
    "        q1 = (myList[int(q1_index-0.5)] + myList[int(q1_index+0.5)])/2 \n",
    "        q2 = (myList[int(3*q1_index-0.5)] + myList[int(3*q1_index+0.5)])/2 \n",
    "    else:\n",
    "        q1 = myList[int(q1_index)]\n",
    "        q2 = myList[3*int(q1_index)] \n",
    "\n",
    "\n",
    "    IQR  = 1.5*(q2-q1)\n",
    "    lower_limit =  q1 - IQR\n",
    "    upper_limit =  q2 + IQR\n",
    "    return (lower_limit , upper_limit)"
   ]
  },
  {
   "cell_type": "code",
   "execution_count": 7,
   "id": "3506c757",
   "metadata": {},
   "outputs": [],
   "source": [
    "#i sayisi sinirlara uyuyor mu kontrol ediyor\n",
    "def isOK(i,bot,top):\n",
    "        if (i < bot) or (i > top):\n",
    "            return False\n",
    "        else: \n",
    "            return True\n"
   ]
  },
  {
   "cell_type": "code",
   "execution_count": null,
   "id": "6a48ec33",
   "metadata": {},
   "outputs": [],
   "source": []
  },
  {
   "cell_type": "code",
   "execution_count": 9,
   "id": "2ba00ab5",
   "metadata": {
    "scrolled": false
   },
   "outputs": [
    {
     "name": "stdout",
     "output_type": "stream",
     "text": [
      "Yasanabilir ortamlar icin ort polarite degeri: -0.25542592592592606\n",
      "Yasanamaz ortamlar icin ort polarite degeri:  0.14750104166666686\n",
      "ort polarite = 0.0024473333333334085\n"
     ]
    }
   ],
   "source": [
    "# Polarite degeri icin ortalama:\n",
    "availableSum = 0\n",
    "avalibleCount = 0\n",
    "unavailableSum = 0\n",
    "unavailableCount = 0\n",
    "for i in range(2,156):\n",
    "    if (ws.cell(i,3).value != None) and (ws.cell(i,12).value == \"yaşanabilir\"):\n",
    "        #print(ws.cell(i,3).value)\n",
    "        availableSum = availableSum + ws.cell(i,3).value\n",
    "        avalibleCount += 1\n",
    "    elif (ws.cell(i,3).value != None) and (ws.cell(i,12).value == \"yaşanamaz\"):\n",
    "        unavailableSum = unavailableSum + ws.cell(i,3).value\n",
    "        unavailableCount += 1\n",
    "print(f\"Yasanabilir ortamlar icin ort polarite degeri: {availableSum/avalibleCount}\")\n",
    "print(f\"Yasanamaz ortamlar icin ort polarite degeri:  {unavailableSum/unavailableCount}\")\n",
    "ortPolarite = (availableSum/avalibleCount) + (unavailableSum/unavailableCount)\n",
    "print(f\"ort polarite = {(availableSum+unavailableSum)/(avalibleCount+unavailableCount)}\")"
   ]
  },
  {
   "cell_type": "code",
   "execution_count": 10,
   "id": "0804306a",
   "metadata": {},
   "outputs": [],
   "source": [
    "## Uygun polarite degerlerinin yerlerine atanması\n",
    "avaOrt = availableSum/avalibleCount\n",
    "unavaOrt = unavailableSum/unavailableCount\n",
    "for i in range(2,156):\n",
    "    if (ws.cell(i,3).value == None):\n",
    "        if ws.cell(i,12).value == \"yaşanabilir\":\n",
    "            ws.cell(i,3).value = avaOrt\n",
    "        else:\n",
    "            ws.cell(i,3).value = unavaOrt\n",
    "            \n",
    "wb.save(\"Proje1_VeriKümesi.xlsx\")"
   ]
  },
  {
   "cell_type": "code",
   "execution_count": 11,
   "id": "2a9d35fa",
   "metadata": {
    "scrolled": false
   },
   "outputs": [
    {
     "name": "stdout",
     "output_type": "stream",
     "text": [
      "Yasanabilir ortamlar icin ort h2oskor degeri: 5.951063829787231\n",
      "Yasanamaz ortamlar icin ort h2oskor degeri:  5.7891304347826065\n",
      "ort polarite = 5.843884892086329\n"
     ]
    }
   ],
   "source": [
    "#h2o skoru için uygun ortalama veriler\n",
    "\n",
    "h2availableSum = 0\n",
    "h2avalibleCount = 0\n",
    "h2unavailableSum = 0\n",
    "h2unavailableCount = 0\n",
    "lowerH2, upperH2 = CalculateIQR(all[3])\n",
    "for i in range(2,156):\n",
    "    if (ws.cell(i,4).value != None) and (ws.cell(i,12).value == \"yaşanabilir\"):\n",
    "        if isOK(ws.cell(i,4).value , lowerH2, upperH2) == True:\n",
    "            h2availableSum = h2availableSum + ws.cell(i,4).value\n",
    "            h2avalibleCount += 1\n",
    "        else:\n",
    "            pass\n",
    "    elif (ws.cell(i,4).value != None) and (ws.cell(i,12).value == \"yaşanamaz\"):\n",
    "        if isOK(ws.cell(i,4).value , lowerH2, upperH2) == True:\n",
    "            h2unavailableSum = h2unavailableSum + ws.cell(i,4).value\n",
    "            h2unavailableCount += 1\n",
    "        else:\n",
    "            pass\n",
    "print(f\"Yasanabilir ortamlar icin ort h2oskor degeri: {h2availableSum/h2avalibleCount}\")\n",
    "print(f\"Yasanamaz ortamlar icin ort h2oskor degeri:  {h2unavailableSum/h2unavailableCount}\")\n",
    "print(f\"ort polarite = {(h2availableSum+h2unavailableSum)/(h2avalibleCount+h2unavailableCount)}\")"
   ]
  },
  {
   "cell_type": "code",
   "execution_count": 12,
   "id": "89a07993",
   "metadata": {},
   "outputs": [],
   "source": [
    "##h2o skor icin eksik verilerin tamamlanması\n",
    "h2avaOrt = h2availableSum/h2avalibleCount\n",
    "h2unavaOrt = h2unavailableSum/h2unavailableCount\n",
    "for i in range(2,156):\n",
    "    if (ws.cell(i,4).value == None):\n",
    "        if ws.cell(i,12).value == \"yaşanabilir\":\n",
    "            ws.cell(i,4).value = avaOrt\n",
    "        else:\n",
    "            ws.cell(i,4).value = unavaOrt\n",
    "            \n",
    "wb.save(\"Proje1_VeriKümesi.xlsx\")\n"
   ]
  },
  {
   "cell_type": "code",
   "execution_count": 13,
   "id": "ff201b0a",
   "metadata": {},
   "outputs": [
    {
     "name": "stdout",
     "output_type": "stream",
     "text": [
      "Yasanabilir ortamlar icin ort azotskor degeri: 2.806666666666667\n",
      "Yasanamaz ortamlar icin ort azotskor degeri:  3.1533333333333333\n",
      "ort azotskor = 3.037777777777778\n"
     ]
    }
   ],
   "source": [
    "#azot skoru ortalamaları\n",
    "az_availableSum = 0\n",
    "az_avalibleCount = 0\n",
    "az_unavailableSum = 0\n",
    "az_unavailableCount = 0\n",
    "loweraz_, upperaz_ = CalculateIQR(all[5])\n",
    "for i in range(2,156):\n",
    "    if (ws.cell(i,6).value != None) and (ws.cell(i,12).value == \"yaşanabilir\"):\n",
    "        if isOK(ws.cell(i,6).value , loweraz_, upperaz_) == True:\n",
    "            az_availableSum = az_availableSum + ws.cell(i,6).value\n",
    "            az_avalibleCount += 1\n",
    "        else:\n",
    "            pass\n",
    "    elif (ws.cell(i,6).value != None) and (ws.cell(i,12).value == \"yaşanamaz\"):\n",
    "        if isOK(ws.cell(i,6).value , loweraz_, upperaz_) == True:\n",
    "            az_unavailableSum = az_unavailableSum + ws.cell(i,6).value\n",
    "            az_unavailableCount += 1\n",
    "        else:\n",
    "            pass\n",
    "print(f\"Yasanabilir ortamlar icin ort azotskor degeri: {az_availableSum/az_avalibleCount}\")\n",
    "print(f\"Yasanamaz ortamlar icin ort azotskor degeri:  {az_unavailableSum/az_unavailableCount}\")\n",
    "print(f\"ort azotskor = {(az_availableSum+az_unavailableSum)/(az_avalibleCount+az_unavailableCount)}\")"
   ]
  },
  {
   "cell_type": "code",
   "execution_count": 14,
   "id": "a54737c3",
   "metadata": {},
   "outputs": [],
   "source": [
    "avaOrt = az_availableSum/az_avalibleCount\n",
    "unavaOrt = az_unavailableSum/az_unavailableCount\n",
    "for i in range(2,156):\n",
    "    if (ws.cell(i,6).value == None):\n",
    "        if ws.cell(i,12).value == \"yaşanabilir\":\n",
    "            ws.cell(i,6).value = avaOrt\n",
    "        else:\n",
    "            ws.cell(i,6).value = unavaOrt\n",
    "            \n",
    "wb.save(\"Proje1_VeriKümesi.xlsx\")"
   ]
  },
  {
   "cell_type": "code",
   "execution_count": 15,
   "id": "451dfc7d",
   "metadata": {},
   "outputs": [
    {
     "name": "stdout",
     "output_type": "stream",
     "text": [
      "Yasanabilir ortamlar icin ort H2O oran degeri: 4.3533333333333335\n",
      "Yasanamaz ortamlar icin ort H2O oran degeri:  3.554747474747475\n",
      "ort azotskor = 3.804305555555556\n"
     ]
    }
   ],
   "source": [
    "h2oran_availableSum = 0\n",
    "h2oran_avalibleCount = 0\n",
    "h2oran_unavailableSum = 0\n",
    "h2oran_unavailableCount = 0\n",
    "lowerh2oran_, upperh2oran_ = CalculateIQR(all[6])\n",
    "for i in range(2,156):\n",
    "    if (ws.cell(i,7).value != None) and (ws.cell(i,12).value == \"yaşanabilir\"):\n",
    "        if isOK(ws.cell(i,7).value , lowerh2oran_, upperh2oran_) == True:\n",
    "            h2oran_availableSum = h2oran_availableSum + ws.cell(i,7).value\n",
    "            h2oran_avalibleCount += 1\n",
    "        else:\n",
    "            pass\n",
    "    elif (ws.cell(i,7).value != None) and (ws.cell(i,12).value == \"yaşanamaz\"):\n",
    "        if isOK(ws.cell(i,7).value , lowerh2oran_, upperh2oran_) == True:\n",
    "            h2oran_unavailableSum = h2oran_unavailableSum + ws.cell(i,7).value\n",
    "            h2oran_unavailableCount += 1\n",
    "        else:\n",
    "            pass\n",
    "print(f\"Yasanabilir ortamlar icin ort H2O oran degeri: {h2oran_availableSum/h2oran_avalibleCount}\")\n",
    "print(f\"Yasanamaz ortamlar icin ort H2O oran degeri:  {h2oran_unavailableSum/h2oran_unavailableCount}\")\n",
    "print(f\"ort azotskor = {(h2oran_availableSum+h2oran_unavailableSum)/(h2oran_avalibleCount+h2oran_unavailableCount)}\")"
   ]
  },
  {
   "cell_type": "code",
   "execution_count": 16,
   "id": "87249e07",
   "metadata": {},
   "outputs": [],
   "source": [
    "avaOrt = h2oran_availableSum/h2oran_avalibleCount\n",
    "unavaOrt = h2oran_unavailableSum/h2oran_unavailableCount\n",
    "for i in range(2,156):\n",
    "    if (ws.cell(i,7).value == None):\n",
    "        if ws.cell(i,12).value == \"yaşanabilir\":\n",
    "            ws.cell(i,7).value = avaOrt\n",
    "        else:\n",
    "            ws.cell(i,7).value = unavaOrt\n",
    "            \n",
    "wb.save(\"Proje1_VeriKümesi.xlsx\")"
   ]
  },
  {
   "cell_type": "code",
   "execution_count": 17,
   "id": "30cd9910",
   "metadata": {},
   "outputs": [
    {
     "name": "stdout",
     "output_type": "stream",
     "text": [
      "Yasanabilir ortamlar icin ort O2 oran degeri: 1.324\n",
      "Yasanamaz ortamlar icin ort O2 oran degeri:  1.1372164948453607\n",
      "ort o2 oran = 1.2007482993197278\n"
     ]
    }
   ],
   "source": [
    "o2oran_availableSum = 0\n",
    "o2oran_avalibleCount = 0\n",
    "o2oran_unavailableSum = 0\n",
    "o2oran_unavailableCount = 0\n",
    "lowero2oran_, uppero2oran_ = CalculateIQR(all[7])\n",
    "for i in range(2,156):\n",
    "    if (ws.cell(i,8).value != None) and (ws.cell(i,12).value == \"yaşanabilir\"):\n",
    "        if isOK(ws.cell(i,8).value , lowero2oran_, uppero2oran_) == True:\n",
    "            o2oran_availableSum = o2oran_availableSum + ws.cell(i,8).value\n",
    "            o2oran_avalibleCount += 1\n",
    "        else:\n",
    "            pass\n",
    "    elif (ws.cell(i,8).value != None) and (ws.cell(i,12).value == \"yaşanamaz\"):\n",
    "        if isOK(ws.cell(i,8).value , lowero2oran_, uppero2oran_) == True:\n",
    "            o2oran_unavailableSum = o2oran_unavailableSum + ws.cell(i,8).value\n",
    "            o2oran_unavailableCount += 1\n",
    "        else:\n",
    "            pass\n",
    "print(f\"Yasanabilir ortamlar icin ort O2 oran degeri: {o2oran_availableSum/o2oran_avalibleCount}\")\n",
    "print(f\"Yasanamaz ortamlar icin ort O2 oran degeri:  {o2oran_unavailableSum/o2oran_unavailableCount}\")\n",
    "print(f\"ort o2 oran = {(o2oran_availableSum+o2oran_unavailableSum)/(o2oran_avalibleCount+o2oran_unavailableCount)}\")"
   ]
  },
  {
   "cell_type": "code",
   "execution_count": 18,
   "id": "e77fe9bc",
   "metadata": {},
   "outputs": [],
   "source": [
    "avaOrt = o2oran_availableSum/o2oran_avalibleCount\n",
    "unavaOrt = o2oran_unavailableSum/o2oran_unavailableCount\n",
    "for i in range(2,156):\n",
    "    if (ws.cell(i,8).value == None):\n",
    "        if ws.cell(i,12).value == \"yaşanabilir\":\n",
    "            ws.cell(i,8).value = avaOrt\n",
    "        else:\n",
    "            ws.cell(i,8).value = unavaOrt\n",
    "            \n",
    "wb.save(\"Proje1_VeriKümesi.xlsx\")"
   ]
  },
  {
   "cell_type": "code",
   "execution_count": 19,
   "id": "63d7f874",
   "metadata": {},
   "outputs": [
    {
     "name": "stdout",
     "output_type": "stream",
     "text": [
      "Yasanabilir ortamlar icin ort kaynak degeri: 7.487179487179487\n",
      "Yasanamaz ortamlar icin ort kaynak degeri:  7.81395348837209\n",
      "ort kaynak = 7.711999999999998\n"
     ]
    }
   ],
   "source": [
    "kaynak_availableSum = 0\n",
    "kaynak_avalibleCount = 0\n",
    "kaynak_unavailableSum = 0\n",
    "kaynak_unavailableCount = 0\n",
    "lowerkaynak_, upperkaynak_ = CalculateIQR(all[9])\n",
    "for i in range(2,156):\n",
    "    if (ws.cell(i,10).value != None) and (ws.cell(i,12).value == \"yaşanabilir\"):\n",
    "        if isOK(ws.cell(i,10).value , lowerkaynak_, upperkaynak_) == True:\n",
    "            kaynak_availableSum = kaynak_availableSum + ws.cell(i,10).value\n",
    "            kaynak_avalibleCount += 1\n",
    "        else:\n",
    "            pass\n",
    "    elif (ws.cell(i,10).value != None) and (ws.cell(i,12).value == \"yaşanamaz\"):\n",
    "        if isOK(ws.cell(i,10).value , lowerkaynak_, upperkaynak_) == True:\n",
    "            kaynak_unavailableSum = kaynak_unavailableSum + ws.cell(i,10).value\n",
    "            kaynak_unavailableCount += 1\n",
    "        else:\n",
    "            pass\n",
    "print(f\"Yasanabilir ortamlar icin ort kaynak degeri: {kaynak_availableSum/kaynak_avalibleCount}\")\n",
    "print(f\"Yasanamaz ortamlar icin ort kaynak degeri:  {kaynak_unavailableSum/kaynak_unavailableCount}\")\n",
    "print(f\"ort kaynak = {(kaynak_availableSum+kaynak_unavailableSum)/(kaynak_avalibleCount+kaynak_unavailableCount)}\")"
   ]
  },
  {
   "cell_type": "code",
   "execution_count": 20,
   "id": "abc7f4cb",
   "metadata": {},
   "outputs": [],
   "source": [
    "avaOrt = kaynak_availableSum/kaynak_avalibleCount\n",
    "unavaOrt = kaynak_unavailableSum/kaynak_unavailableCount\n",
    "for i in range(2,156):\n",
    "    if (ws.cell(i,10).value == None):\n",
    "        if ws.cell(i,12).value == \"yaşanabilir\":\n",
    "            ws.cell(i,10).value = avaOrt\n",
    "        else:\n",
    "            ws.cell(i,10).value = unavaOrt\n",
    "            \n",
    "wb.save(\"Proje1_VeriKümesi.xlsx\")"
   ]
  },
  {
   "cell_type": "code",
   "execution_count": 21,
   "id": "7291ba6e",
   "metadata": {},
   "outputs": [
    {
     "name": "stdout",
     "output_type": "stream",
     "text": [
      "Yasanabilir ortamlar icin ort isi degeri: 6.11212927947357\n",
      "Yasanamaz ortamlar icin ort isi degeri:  17.985930948925276\n",
      "ort isi = 13.780626190994461\n"
     ]
    }
   ],
   "source": [
    "isi_availableSum = 0\n",
    "isi_avalibleCount = 0\n",
    "isi_unavailableSum = 0\n",
    "isi_unavailableCount = 0\n",
    "lowerisi_, upperisi_ = CalculateIQR(all[10])\n",
    "for i in range(2,156):\n",
    "    if (ws.cell(i,11).value != None) and (ws.cell(i,12).value == \"yaşanabilir\"):\n",
    "        if isOK(ws.cell(i,11).value , lowerisi_, upperisi_) == True:\n",
    "            isi_availableSum = isi_availableSum + ws.cell(i,11).value\n",
    "            isi_avalibleCount += 1\n",
    "        else:\n",
    "            pass\n",
    "    elif (ws.cell(i,11).value != None) and (ws.cell(i,12).value == \"yaşanamaz\"):\n",
    "        if isOK(ws.cell(i,11).value , lowerisi_, upperisi_) == True:\n",
    "            isi_unavailableSum = isi_unavailableSum + ws.cell(i,11).value\n",
    "            isi_unavailableCount += 1\n",
    "        else:\n",
    "            pass\n",
    "print(f\"Yasanabilir ortamlar icin ort isi degeri: {isi_availableSum/isi_avalibleCount}\")\n",
    "print(f\"Yasanamaz ortamlar icin ort isi degeri:  {isi_unavailableSum/isi_unavailableCount}\")\n",
    "print(f\"ort isi = {(isi_availableSum+isi_unavailableSum)/(isi_avalibleCount+isi_unavailableCount)}\")"
   ]
  },
  {
   "cell_type": "code",
   "execution_count": 22,
   "id": "fa5071a4",
   "metadata": {},
   "outputs": [],
   "source": [
    "avaOrt = isi_availableSum/isi_avalibleCount\n",
    "unavaOrt = isi_unavailableSum/isi_unavailableCount\n",
    "for i in range(2,156):\n",
    "    if (ws.cell(i,11).value == None):\n",
    "        if ws.cell(i,12).value == \"yaşanabilir\":\n",
    "            ws.cell(i,11).value = avaOrt\n",
    "        else:\n",
    "            ws.cell(i,11).value = unavaOrt\n",
    "            \n",
    "wb.save(\"Proje1_VeriKümesi.xlsx\")"
   ]
  }
 ],
 "metadata": {
  "kernelspec": {
   "display_name": "Python 3",
   "language": "python",
   "name": "python3"
  },
  "language_info": {
   "codemirror_mode": {
    "name": "ipython",
    "version": 3
   },
   "file_extension": ".py",
   "mimetype": "text/x-python",
   "name": "python",
   "nbconvert_exporter": "python",
   "pygments_lexer": "ipython3",
   "version": "3.10.7"
  }
 },
 "nbformat": 4,
 "nbformat_minor": 5
}
