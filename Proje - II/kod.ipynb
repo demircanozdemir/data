{
 "cells": [
  {
   "cell_type": "code",
   "execution_count": 1,
   "id": "e49ed633",
   "metadata": {},
   "outputs": [],
   "source": [
    "import csv\n",
    "from openpyxl import Workbook,load_workbook\n",
    "from openpyxl.cell import Cell"
   ]
  },
  {
   "cell_type": "raw",
   "id": "f3c797f3",
   "metadata": {},
   "source": [
    " Tekrar tekrar çalıştırmaya gerek yok\n",
    "\n",
    "# csv_data = []\n",
    "# with open('diabetes.csv') as file_obj:\n",
    "#     reader = csv.reader (file_obj)\n",
    "#     for row in reader:\n",
    "#         csv_data.append(row)\n",
    "# csv_data\n",
    "# wb = Workbook()\n",
    "# ws = wb.create_sheet(\"diabetes\")\n",
    "    \n",
    "# for i in range(1,len(csv_data)):\n",
    "#     for j in range(len(csv_data[i])):\n",
    "#         ws.cell(i+1,j+1).value = float(csv_data[i][j])\n",
    "# wb.save(\"data.xlsx\")"
   ]
  },
  {
   "cell_type": "code",
   "execution_count": 2,
   "id": "1341f88d",
   "metadata": {},
   "outputs": [],
   "source": [
    "wb = load_workbook(\"data.xlsx\")\n",
    "ws = wb[\"diabetes\"]"
   ]
  },
  {
   "cell_type": "code",
   "execution_count": 3,
   "id": "03b38a49",
   "metadata": {},
   "outputs": [
    {
     "name": "stdout",
     "output_type": "stream",
     "text": [
      "Glucose alanindaki boş veri sayısı, 5\n",
      "BP alanindaki boş veri sayısı, 28\n",
      "SkinThickness alanindaki boş veri sayısı, 220\n",
      "Insulin alanindaki boş veri sayısı, 367\n",
      "BMI alanindaki boş veri sayısı, 4\n",
      "PedigreeFunc alanindaki boş veri sayısı, 0\n",
      "Age alanindaki boş veri sayısı, 0\n"
     ]
    }
   ],
   "source": [
    "for kolon in range(2,9):\n",
    "    c = 0\n",
    "    for satir in range(2,770):\n",
    "        if(ws.cell(satir,kolon).value == 0 ):\n",
    "            c += 1 \n",
    "    print(f\"{ws.cell(1,kolon).value} alanindaki boş veri sayısı, {c}\")"
   ]
  },
  {
   "cell_type": "code",
   "execution_count": 4,
   "id": "04f93624",
   "metadata": {},
   "outputs": [],
   "source": [
    "# dataları listeye çekme\n",
    "all = []\n",
    "for kolon in range(2,7):\n",
    "    dizi = []\n",
    "    for satir in range(2,770):\n",
    "        if ws.cell(satir,kolon).value != 0 and ws.cell(satir,kolon).value != None:\n",
    "            dizi.append(ws.cell(satir,kolon).value) \n",
    "    dizi.sort()\n",
    "    all.append(dizi)"
   ]
  },
  {
   "cell_type": "code",
   "execution_count": 5,
   "id": "0b57caca",
   "metadata": {},
   "outputs": [
    {
     "data": {
      "text/plain": [
       "32.3"
      ]
     },
     "execution_count": 5,
     "metadata": {},
     "output_type": "execute_result"
    }
   ],
   "source": [
    "all[-1][int(len(all[-1])/2)]"
   ]
  },
  {
   "cell_type": "code",
   "execution_count": 6,
   "id": "5fd70ce2",
   "metadata": {},
   "outputs": [],
   "source": [
    "iqr_ranges = { } \n"
   ]
  },
  {
   "cell_type": "code",
   "execution_count": 7,
   "id": "2c5dbc9e",
   "metadata": {},
   "outputs": [
    {
     "name": "stdout",
     "output_type": "stream",
     "text": [
      "Glucose icin limit degerler: (38.5, 202.5)\n",
      "BP icin limit degerler: (40.0, 104.0)\n",
      "SkinThickness icin limit degerler: (1.0, 57.0)\n",
      "Insulin icin limit degerler: (-93.75, 360.25)\n",
      "BMI icin limit degerler: (13.849999999999998, 50.25)\n"
     ]
    }
   ],
   "source": [
    "for n in range(len(all)):\n",
    "    q1_index = len(all[n])/4\n",
    "    #print(q1_index)\n",
    "    if str(q1_index)[-2:] != \".0\" :\n",
    "        q1 = (all[n][int(q1_index-0.5)] + all[n][int(q1_index+0.5)])/2 \n",
    "        q2 = (all[n][int(3*q1_index-0.5)] + all[n][int(3*q1_index+0.5)])/2 \n",
    "    else:\n",
    "        q1 = all[n][int(q1_index)]\n",
    "        q2 = all[n][3*int(q1_index)] \n",
    "\n",
    "\n",
    "    IQR  = 1.5*(q2-q1)\n",
    "    lower_limit =  q1 - IQR\n",
    "    upper_limit =  q2 + IQR\n",
    "    #print(\"Limitler: \",lower_limit,\"  \" ,upper_limit)\n",
    "    \n",
    "    print(f\"{ws.cell(1,(n+2)).value} icin limit degerler: {lower_limit,upper_limit}\")\n",
    "    iqr_ranges[ws.cell(1,(n+2)).value] = [lower_limit,upper_limit]\n"
   ]
  },
  {
   "cell_type": "code",
   "execution_count": 8,
   "id": "9574a2d2",
   "metadata": {
    "scrolled": true
   },
   "outputs": [
    {
     "data": {
      "text/plain": [
       "{'Glucose': [38.5, 202.5],\n",
       " 'BP': [40.0, 104.0],\n",
       " 'SkinThickness': [1.0, 57.0],\n",
       " 'Insulin': [-93.75, 360.25],\n",
       " 'BMI': [13.849999999999998, 50.25]}"
      ]
     },
     "execution_count": 8,
     "metadata": {},
     "output_type": "execute_result"
    }
   ],
   "source": [
    "iqr_ranges"
   ]
  },
  {
   "cell_type": "code",
   "execution_count": 9,
   "id": "f241253b",
   "metadata": {},
   "outputs": [
    {
     "name": "stdout",
     "output_type": "stream",
     "text": [
      "Glucose için aykırı değer saysı 0.\n",
      "BP için aykırı değer saysı 14.\n",
      "SkinThickness için aykırı değer saysı 3.\n",
      "Insulin için aykırı değer saysı 24.\n",
      "BMI için aykırı değer saysı 8.\n"
     ]
    }
   ],
   "source": [
    "for sutun in range(2,7):\n",
    "    c = 0\n",
    "    for satir in range(2,763):\n",
    "        if ws.cell(satir,sutun).value > iqr_ranges[ws.cell(1,sutun).value][1] or ws.cell(satir,sutun).value < iqr_ranges[ws.cell(1,sutun).value][0] :\n",
    "                if ws.cell(satir,sutun).value != 0:\n",
    "                    c += 1\n",
    "    print(f\"{ws.cell(1,sutun).value} için aykırı değer saysı {c}.\")"
   ]
  },
  {
   "cell_type": "code",
   "execution_count": 10,
   "id": "7ae270ff",
   "metadata": {},
   "outputs": [
    {
     "name": "stdout",
     "output_type": "stream",
     "text": [
      "diyabetli_ort: (142.42264150943396, 265), diyabetsiz_ort: (110.87372708757637, 491)\n",
      "True\n"
     ]
    }
   ],
   "source": [
    "# Glucose için ortalama değer hesabı\n",
    "diyabetli_toplam = 0\n",
    "dli_c = 0\n",
    "diyabetsiz_toplam = 0\n",
    "dsiz_c = 0\n",
    "for satir in range(2,770):\n",
    "    if ws.cell(satir,2).value != None:\n",
    "        if (ws.cell(satir,2).value <= iqr_ranges[\"Glucose\"][1]) and (ws.cell(satir,2).value >= iqr_ranges[\"Glucose\"][0])  and (ws.cell(satir,2).value != 0):\n",
    "            if ws.cell(satir,9).value == 0:\n",
    "                diyabetsiz_toplam += ws.cell(satir,2).value\n",
    "                dsiz_c += 1\n",
    "            else:\n",
    "                diyabetli_toplam += ws.cell(satir,2).value\n",
    "                dli_c += 1\n",
    "print(f\"diyabetli_ort: {diyabetli_toplam/dli_c, dli_c}, diyabetsiz_ort: {diyabetsiz_toplam/dsiz_c ,dsiz_c}\")\n",
    "if (dli_c + dsiz_c) <= len(all[0]):\n",
    "    print(\"True\")"
   ]
  },
  {
   "cell_type": "code",
   "execution_count": 11,
   "id": "f40d40ff",
   "metadata": {},
   "outputs": [
    {
     "data": {
      "text/plain": [
       "(37742, 54439)"
      ]
     },
     "execution_count": 11,
     "metadata": {},
     "output_type": "execute_result"
    }
   ],
   "source": [
    "diyabetli_toplam, diyabetsiz_toplam"
   ]
  },
  {
   "cell_type": "code",
   "execution_count": 12,
   "id": "cd492074",
   "metadata": {},
   "outputs": [
    {
     "name": "stdout",
     "output_type": "stream",
     "text": [
      "diyabetli_ort: (74.8089430894309, 246), diyabetsiz_ort: (70.71458773784356, 473)\n",
      "True\n",
      "733\n"
     ]
    }
   ],
   "source": [
    "# BP-Blood Pressure için ortalama değer hesabı\n",
    "diyabetli_toplam = 0\n",
    "dli_c = 0\n",
    "diyabetsiz_toplam = 0\n",
    "dsiz_c = 0\n",
    "for satir in range(2,770):\n",
    "    if ws.cell(satir,3).value != None:\n",
    "        if (ws.cell(satir,3).value <= iqr_ranges[\"BP\"][1]) and (ws.cell(satir,3).value >= iqr_ranges[\"BP\"][0])  and (ws.cell(satir,3).value != 0):\n",
    "            if ws.cell(satir,9).value == 0:\n",
    "                diyabetsiz_toplam += ws.cell(satir,3).value\n",
    "                dsiz_c += 1\n",
    "            else:\n",
    "                diyabetli_toplam += ws.cell(satir,3).value\n",
    "                dli_c += 1\n",
    "print(f\"diyabetli_ort: {diyabetli_toplam/dli_c, dli_c}, diyabetsiz_ort: {diyabetsiz_toplam/dsiz_c, dsiz_c}\")\n",
    "if (dli_c + dsiz_c) <= len(all[1]):\n",
    "    print(\"True\")\n",
    "    print(len(all[1]))"
   ]
  },
  {
   "cell_type": "code",
   "execution_count": 13,
   "id": "5f7ed79c",
   "metadata": {},
   "outputs": [
    {
     "name": "stdout",
     "output_type": "stream",
     "text": [
      "diyabetli_ort: (32.46067415730337, 178), diyabetsiz_ort: (27.144444444444446, 360)\n",
      "True\n",
      "541\n"
     ]
    }
   ],
   "source": [
    "# SkinThickness Pressure için ortalama değer hesabı\n",
    "diyabetli_toplam = 0\n",
    "dli_c = 0\n",
    "diyabetsiz_toplam = 0\n",
    "dsiz_c = 0\n",
    "for satir in range(2,770):\n",
    "    if ws.cell(satir,4).value != None:\n",
    "        if (ws.cell(satir,4).value <= iqr_ranges[\"SkinThickness\"][1]) and (ws.cell(satir,4).value >= iqr_ranges[\"SkinThickness\"][0])  and (ws.cell(satir,4).value != 0):\n",
    "            if ws.cell(satir,9).value == 0:\n",
    "                diyabetsiz_toplam += ws.cell(satir,4).value\n",
    "                dsiz_c += 1\n",
    "            else:\n",
    "                diyabetli_toplam += ws.cell(satir,4).value\n",
    "                dli_c += 1\n",
    "print(f\"diyabetli_ort: {diyabetli_toplam/dli_c, dli_c}, diyabetsiz_ort: {diyabetsiz_toplam/dsiz_c, dsiz_c}\")\n",
    "if (dli_c + dsiz_c) <= len(all[2]):\n",
    "    print(\"True\")\n",
    "    print(len(all[2]))"
   ]
  },
  {
   "cell_type": "code",
   "execution_count": 14,
   "id": "4b58b5be",
   "metadata": {},
   "outputs": [
    {
     "name": "stdout",
     "output_type": "stream",
     "text": [
      "diyabetli_ort: (169.16379310344828, 116), diyabetsiz_ort: (115.91732283464567, 254)\n",
      "True\n",
      "394\n"
     ]
    }
   ],
   "source": [
    "# Insulin Pressure için ortalama değer hesabı\n",
    "diyabetli_toplam = 0\n",
    "dli_c = 0\n",
    "diyabetsiz_toplam = 0\n",
    "dsiz_c = 0\n",
    "for satir in range(2,770):\n",
    "    if ws.cell(satir,5).value != None:\n",
    "        if (ws.cell(satir,5).value <= iqr_ranges[\"Insulin\"][1]) and (ws.cell(satir,5).value >= iqr_ranges[\"Insulin\"][0]) and (ws.cell(satir,5).value != 0):\n",
    "            if ws.cell(satir,9).value == 0:\n",
    "                diyabetsiz_toplam += ws.cell(satir,5).value\n",
    "                dsiz_c += 1\n",
    "            else:\n",
    "                diyabetli_toplam += ws.cell(satir,5).value\n",
    "                dli_c += 1\n",
    "print(f\"diyabetli_ort: {diyabetli_toplam/dli_c, dli_c}, diyabetsiz_ort: {diyabetsiz_toplam/dsiz_c, dsiz_c}\")\n",
    "if (dli_c + dsiz_c) <= len(all[3]):\n",
    "    print(\"True\")\n",
    "    print(len(all[3]))"
   ]
  },
  {
   "cell_type": "code",
   "execution_count": 15,
   "id": "4d620759",
   "metadata": {},
   "outputs": [
    {
     "name": "stdout",
     "output_type": "stream",
     "text": [
      "diyabetli_ort: (34.91653846153842, 260), diyabetsiz_ort: (30.761758691206502, 489)\n",
      "True\n",
      "757\n"
     ]
    }
   ],
   "source": [
    "# BMI için ortalama değer hesabı\n",
    "diyabetli_toplam = 0\n",
    "dli_c = 0\n",
    "diyabetsiz_toplam = 0\n",
    "dsiz_c = 0\n",
    "for satir in range(2,770):\n",
    "    if ws.cell(satir,6).value != None:\n",
    "        if (ws.cell(satir,6).value <= iqr_ranges[\"BMI\"][1]) and (ws.cell(satir,6).value >= iqr_ranges[\"BMI\"][0])  and (ws.cell(satir,6).value != 0):\n",
    "            if ws.cell(satir,9).value == 0:\n",
    "                diyabetsiz_toplam += ws.cell(satir,6).value\n",
    "                dsiz_c += 1\n",
    "            else:\n",
    "                diyabetli_toplam += ws.cell(satir,6).value\n",
    "                dli_c += 1\n",
    "print(f\"diyabetli_ort: {diyabetli_toplam/dli_c, dli_c}, diyabetsiz_ort: {diyabetsiz_toplam/dsiz_c, dsiz_c}\")\n",
    "if (dli_c + dsiz_c) <= len(all[4]):\n",
    "    print(\"True\")\n",
    "    print(len(all[4]))"
   ]
  },
  {
   "cell_type": "markdown",
   "id": "81c18b91",
   "metadata": {},
   "source": []
  },
  {
   "cell_type": "code",
   "execution_count": 16,
   "id": "f9bdeff2",
   "metadata": {},
   "outputs": [],
   "source": [
    "## eksik verileri doldurma\n",
    "\n",
    "missValues = {\n",
    "           #diyabetsiz     ,     diyabetli\n",
    "    2: [110.64386317907444, 142.31954887218046], #glucose\n",
    "    3: [70.72794779096017, 74.8512666889693],    #BP\n",
    "    4: [31.213830257918506, 35.830605926581214],  #SkinThickness\n",
    "    5: [108.51958055111402, 151.6956020741308],  #Insulin\n",
    "    6: [30.934119334480748, 34.97004743200174]   #BMI \n",
    "    \n",
    "}\n",
    "for sutun in range(2,7):\n",
    "    for satir in range(2,770):\n",
    "        if ws.cell(satir,sutun).value == 0:\n",
    "            ws.cell(satir,sutun).value = missValues[sutun][ws.cell(satir,9).value]\n",
    "            \n",
    "wb.save(\"datafilled.xlsx\")"
   ]
  },
  {
   "cell_type": "markdown",
   "id": "81f93755",
   "metadata": {},
   "source": []
  },
  {
   "cell_type": "code",
   "execution_count": 17,
   "id": "5bcb17c7",
   "metadata": {},
   "outputs": [],
   "source": [
    "# SATIR KONTROL\n",
    "for satir in range(2,770):\n",
    "    c = 0\n",
    "    for sutun in range(2,9):\n",
    "        if ws.cell(satir, sutun).value == 0:\n",
    "            c+=1\n",
    "    if c > 3:\n",
    "        for sutun in range(1,10):\n",
    "            ws.cell(satir, sutun).value = None\n",
    "wb.save(\"data.xlsx\")"
   ]
  },
  {
   "cell_type": "markdown",
   "id": "109918be",
   "metadata": {},
   "source": [
    "# gereksiz satır indexleri\n",
    "atatat = [51,62,83,428,496,524,708]\n"
   ]
  }
 ],
 "metadata": {
  "kernelspec": {
   "display_name": "Python 3",
   "language": "python",
   "name": "python3"
  },
  "language_info": {
   "codemirror_mode": {
    "name": "ipython",
    "version": 3
   },
   "file_extension": ".py",
   "mimetype": "text/x-python",
   "name": "python",
   "nbconvert_exporter": "python",
   "pygments_lexer": "ipython3",
   "version": "3.10.7"
  }
 },
 "nbformat": 4,
 "nbformat_minor": 5
}
